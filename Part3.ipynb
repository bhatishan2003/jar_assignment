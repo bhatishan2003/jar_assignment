{
 "cells": [
  {
   "cell_type": "markdown",
   "id": "e99da531",
   "metadata": {},
   "source": [
    "# Part 3: Regional Performance Insights"
   ]
  },
  {
   "cell_type": "markdown",
   "id": "414c6e1b",
   "metadata": {},
   "source": [
    "#### a) From the List of Orders dataset, identify the top 5 states with the highest order count. For each of these states, calculate the total sales and average profit."
   ]
  },
  {
   "cell_type": "code",
   "execution_count": 1,
   "id": "c94beef6",
   "metadata": {},
   "outputs": [],
   "source": [
    "import pandas as pd"
   ]
  },
  {
   "cell_type": "code",
   "execution_count": 2,
   "id": "cdd37bf8",
   "metadata": {},
   "outputs": [],
   "source": [
    "order_list_df = pd.read_csv(\"List_of_Orders_38EF37C2F3.csv\")\n",
    "order_details_df = pd.read_csv(\"Order_Details_F6D252B2DD.csv\")"
   ]
  },
  {
   "cell_type": "code",
   "execution_count": 3,
   "id": "6200a0aa",
   "metadata": {
    "scrolled": true
   },
   "outputs": [
    {
     "data": {
      "text/html": [
       "<div>\n",
       "<style scoped>\n",
       "    .dataframe tbody tr th:only-of-type {\n",
       "        vertical-align: middle;\n",
       "    }\n",
       "\n",
       "    .dataframe tbody tr th {\n",
       "        vertical-align: top;\n",
       "    }\n",
       "\n",
       "    .dataframe thead th {\n",
       "        text-align: right;\n",
       "    }\n",
       "</style>\n",
       "<table border=\"1\" class=\"dataframe\">\n",
       "  <thead>\n",
       "    <tr style=\"text-align: right;\">\n",
       "      <th></th>\n",
       "      <th>Order ID</th>\n",
       "      <th>Amount</th>\n",
       "      <th>Profit</th>\n",
       "      <th>Quantity</th>\n",
       "      <th>Category</th>\n",
       "      <th>Sub-Category</th>\n",
       "      <th>Order Date</th>\n",
       "      <th>CustomerName</th>\n",
       "      <th>State</th>\n",
       "      <th>City</th>\n",
       "    </tr>\n",
       "  </thead>\n",
       "  <tbody>\n",
       "    <tr>\n",
       "      <th>0</th>\n",
       "      <td>B-25601</td>\n",
       "      <td>1275.0</td>\n",
       "      <td>-1148.0</td>\n",
       "      <td>7</td>\n",
       "      <td>Furniture</td>\n",
       "      <td>Bookcases</td>\n",
       "      <td>01-04-2018</td>\n",
       "      <td>Bharat</td>\n",
       "      <td>Gujarat</td>\n",
       "      <td>Ahmedabad</td>\n",
       "    </tr>\n",
       "    <tr>\n",
       "      <th>1</th>\n",
       "      <td>B-25601</td>\n",
       "      <td>66.0</td>\n",
       "      <td>-12.0</td>\n",
       "      <td>5</td>\n",
       "      <td>Clothing</td>\n",
       "      <td>Stole</td>\n",
       "      <td>01-04-2018</td>\n",
       "      <td>Bharat</td>\n",
       "      <td>Gujarat</td>\n",
       "      <td>Ahmedabad</td>\n",
       "    </tr>\n",
       "    <tr>\n",
       "      <th>2</th>\n",
       "      <td>B-25601</td>\n",
       "      <td>8.0</td>\n",
       "      <td>-2.0</td>\n",
       "      <td>3</td>\n",
       "      <td>Clothing</td>\n",
       "      <td>Hankerchief</td>\n",
       "      <td>01-04-2018</td>\n",
       "      <td>Bharat</td>\n",
       "      <td>Gujarat</td>\n",
       "      <td>Ahmedabad</td>\n",
       "    </tr>\n",
       "    <tr>\n",
       "      <th>3</th>\n",
       "      <td>B-25601</td>\n",
       "      <td>80.0</td>\n",
       "      <td>-56.0</td>\n",
       "      <td>4</td>\n",
       "      <td>Electronics</td>\n",
       "      <td>Electronic Games</td>\n",
       "      <td>01-04-2018</td>\n",
       "      <td>Bharat</td>\n",
       "      <td>Gujarat</td>\n",
       "      <td>Ahmedabad</td>\n",
       "    </tr>\n",
       "    <tr>\n",
       "      <th>4</th>\n",
       "      <td>B-25602</td>\n",
       "      <td>168.0</td>\n",
       "      <td>-111.0</td>\n",
       "      <td>2</td>\n",
       "      <td>Electronics</td>\n",
       "      <td>Phones</td>\n",
       "      <td>01-04-2018</td>\n",
       "      <td>Pearl</td>\n",
       "      <td>Maharashtra</td>\n",
       "      <td>Pune</td>\n",
       "    </tr>\n",
       "  </tbody>\n",
       "</table>\n",
       "</div>"
      ],
      "text/plain": [
       "  Order ID  Amount  Profit  Quantity     Category      Sub-Category  \\\n",
       "0  B-25601  1275.0 -1148.0         7    Furniture         Bookcases   \n",
       "1  B-25601    66.0   -12.0         5     Clothing             Stole   \n",
       "2  B-25601     8.0    -2.0         3     Clothing       Hankerchief   \n",
       "3  B-25601    80.0   -56.0         4  Electronics  Electronic Games   \n",
       "4  B-25602   168.0  -111.0         2  Electronics            Phones   \n",
       "\n",
       "   Order Date CustomerName        State       City  \n",
       "0  01-04-2018       Bharat      Gujarat  Ahmedabad  \n",
       "1  01-04-2018       Bharat      Gujarat  Ahmedabad  \n",
       "2  01-04-2018       Bharat      Gujarat  Ahmedabad  \n",
       "3  01-04-2018       Bharat      Gujarat  Ahmedabad  \n",
       "4  01-04-2018        Pearl  Maharashtra       Pune  "
      ]
     },
     "execution_count": 3,
     "metadata": {},
     "output_type": "execute_result"
    }
   ],
   "source": [
    "merged_data = pd.merge(order_details_df , order_list_df , on='Order ID')\n",
    "merged_data.head()"
   ]
  },
  {
   "cell_type": "code",
   "execution_count": 4,
   "id": "3620ccb1",
   "metadata": {},
   "outputs": [
    {
     "data": {
      "text/plain": [
       "State\n",
       "Madhya Pradesh    340\n",
       "Maharashtra       290\n",
       "Gujarat            87\n",
       "Delhi              74\n",
       "Rajasthan          74\n",
       "Name: Order ID, dtype: int64"
      ]
     },
     "execution_count": 4,
     "metadata": {},
     "output_type": "execute_result"
    }
   ],
   "source": [
    "state_counts = merged_data.groupby('State')['Order ID'].count().sort_values(ascending=False)\n",
    "state_counts.head(5)"
   ]
  },
  {
   "cell_type": "code",
   "execution_count": null,
   "id": "77c4ff40",
   "metadata": {},
   "outputs": [],
   "source": [
    "state_counts = merged_data.groupby('State')['Order ID'].count().sort_values(ascending=False)\n",
    "top_states = state_counts.head(5).index.tolist()\n",
    "for state in top_states:\n",
    "    state_orders = merged_data[merged_data['State'] == state]\n",
    "    total_sales = state_orders['Amount'].sum()\n",
    "    avg_profit = state_orders['Profit'].mean()\n",
    "    print(\"State: \" , state)\n",
    "    print(\"Total Sales: \" , str(total_sales))\n",
    "    print(\"Average Profit: \" , str(avg_profit))\n",
    "    print()"
   ]
  },
  {
   "cell_type": "markdown",
   "id": "d2265f99",
   "metadata": {},
   "source": [
    "#### b) Highlight any regional disparities in sales or profitability. Suggest regions or cities that should be prioritized for improvement."
   ]
  },
  {
   "cell_type": "markdown",
   "id": "76dd7912",
   "metadata": {},
   "source": [
    "##### Let's take example of cities"
   ]
  },
  {
   "cell_type": "code",
   "execution_count": 14,
   "id": "828cb807",
   "metadata": {
    "scrolled": true
   },
   "outputs": [
    {
     "data": {
      "text/html": [
       "<div>\n",
       "<style scoped>\n",
       "    .dataframe tbody tr th:only-of-type {\n",
       "        vertical-align: middle;\n",
       "    }\n",
       "\n",
       "    .dataframe tbody tr th {\n",
       "        vertical-align: top;\n",
       "    }\n",
       "\n",
       "    .dataframe thead th {\n",
       "        text-align: right;\n",
       "    }\n",
       "</style>\n",
       "<table border=\"1\" class=\"dataframe\">\n",
       "  <thead>\n",
       "    <tr style=\"text-align: right;\">\n",
       "      <th></th>\n",
       "      <th>City</th>\n",
       "      <th>total_sales</th>\n",
       "      <th>avg_profit</th>\n",
       "    </tr>\n",
       "  </thead>\n",
       "  <tbody>\n",
       "    <tr>\n",
       "      <th>0</th>\n",
       "      <td>Ahmedabad</td>\n",
       "      <td>14230.0</td>\n",
       "      <td>-14.193548</td>\n",
       "    </tr>\n",
       "    <tr>\n",
       "      <th>1</th>\n",
       "      <td>Allahabad</td>\n",
       "      <td>16857.0</td>\n",
       "      <td>102.700000</td>\n",
       "    </tr>\n",
       "    <tr>\n",
       "      <th>2</th>\n",
       "      <td>Amritsar</td>\n",
       "      <td>4507.0</td>\n",
       "      <td>36.266667</td>\n",
       "    </tr>\n",
       "    <tr>\n",
       "      <th>3</th>\n",
       "      <td>Bangalore</td>\n",
       "      <td>15058.0</td>\n",
       "      <td>11.944444</td>\n",
       "    </tr>\n",
       "    <tr>\n",
       "      <th>4</th>\n",
       "      <td>Bhopal</td>\n",
       "      <td>23583.0</td>\n",
       "      <td>13.196970</td>\n",
       "    </tr>\n",
       "  </tbody>\n",
       "</table>\n",
       "</div>"
      ],
      "text/plain": [
       "        City  total_sales  avg_profit\n",
       "0  Ahmedabad      14230.0  -14.193548\n",
       "1  Allahabad      16857.0  102.700000\n",
       "2   Amritsar       4507.0   36.266667\n",
       "3  Bangalore      15058.0   11.944444\n",
       "4     Bhopal      23583.0   13.196970"
      ]
     },
     "execution_count": 14,
     "metadata": {},
     "output_type": "execute_result"
    }
   ],
   "source": [
    "city_performance = merged_data.groupby('City').agg(\n",
    "    total_sales=('Amount', 'sum'),\n",
    "    avg_profit=('Profit', 'mean')\n",
    ").reset_index()\n",
    "city_performance.head()"
   ]
  },
  {
   "cell_type": "code",
   "execution_count": 11,
   "id": "31eaaf61",
   "metadata": {},
   "outputs": [],
   "source": [
    "negative_profit_cities = city_performance[city_performance['avg_profit'] < 0]\n",
    "low_sales_cities  = city_performance[city_performance['total_sales'] < city_performance['total_sales'].median()]"
   ]
  },
  {
   "cell_type": "code",
   "execution_count": 17,
   "id": "801e673c",
   "metadata": {},
   "outputs": [
    {
     "data": {
      "text/html": [
       "<div>\n",
       "<style scoped>\n",
       "    .dataframe tbody tr th:only-of-type {\n",
       "        vertical-align: middle;\n",
       "    }\n",
       "\n",
       "    .dataframe tbody tr th {\n",
       "        vertical-align: top;\n",
       "    }\n",
       "\n",
       "    .dataframe thead th {\n",
       "        text-align: right;\n",
       "    }\n",
       "</style>\n",
       "<table border=\"1\" class=\"dataframe\">\n",
       "  <thead>\n",
       "    <tr style=\"text-align: right;\">\n",
       "      <th></th>\n",
       "      <th>City</th>\n",
       "      <th>total_sales</th>\n",
       "      <th>avg_profit</th>\n",
       "    </tr>\n",
       "  </thead>\n",
       "  <tbody>\n",
       "    <tr>\n",
       "      <th>0</th>\n",
       "      <td>Ahmedabad</td>\n",
       "      <td>14230.0</td>\n",
       "      <td>-14.193548</td>\n",
       "    </tr>\n",
       "    <tr>\n",
       "      <th>6</th>\n",
       "      <td>Chennai</td>\n",
       "      <td>6087.0</td>\n",
       "      <td>-88.640000</td>\n",
       "    </tr>\n",
       "    <tr>\n",
       "      <th>10</th>\n",
       "      <td>Hyderabad</td>\n",
       "      <td>13256.0</td>\n",
       "      <td>-11.809524</td>\n",
       "    </tr>\n",
       "    <tr>\n",
       "      <th>12</th>\n",
       "      <td>Jaipur</td>\n",
       "      <td>10076.0</td>\n",
       "      <td>-17.113636</td>\n",
       "    </tr>\n",
       "    <tr>\n",
       "      <th>18</th>\n",
       "      <td>Patna</td>\n",
       "      <td>12943.0</td>\n",
       "      <td>-5.177419</td>\n",
       "    </tr>\n",
       "  </tbody>\n",
       "</table>\n",
       "</div>"
      ],
      "text/plain": [
       "         City  total_sales  avg_profit\n",
       "0   Ahmedabad      14230.0  -14.193548\n",
       "6     Chennai       6087.0  -88.640000\n",
       "10  Hyderabad      13256.0  -11.809524\n",
       "12     Jaipur      10076.0  -17.113636\n",
       "18      Patna      12943.0   -5.177419"
      ]
     },
     "execution_count": 17,
     "metadata": {},
     "output_type": "execute_result"
    }
   ],
   "source": [
    "negative_profit_cities"
   ]
  },
  {
   "cell_type": "code",
   "execution_count": 15,
   "id": "eee49d7b",
   "metadata": {},
   "outputs": [
    {
     "data": {
      "text/html": [
       "<div>\n",
       "<style scoped>\n",
       "    .dataframe tbody tr th:only-of-type {\n",
       "        vertical-align: middle;\n",
       "    }\n",
       "\n",
       "    .dataframe tbody tr th {\n",
       "        vertical-align: top;\n",
       "    }\n",
       "\n",
       "    .dataframe thead th {\n",
       "        text-align: right;\n",
       "    }\n",
       "</style>\n",
       "<table border=\"1\" class=\"dataframe\">\n",
       "  <thead>\n",
       "    <tr style=\"text-align: right;\">\n",
       "      <th></th>\n",
       "      <th>City</th>\n",
       "      <th>total_sales</th>\n",
       "      <th>avg_profit</th>\n",
       "    </tr>\n",
       "  </thead>\n",
       "  <tbody>\n",
       "    <tr>\n",
       "      <th>2</th>\n",
       "      <td>Amritsar</td>\n",
       "      <td>4507.0</td>\n",
       "      <td>36.266667</td>\n",
       "    </tr>\n",
       "    <tr>\n",
       "      <th>6</th>\n",
       "      <td>Chennai</td>\n",
       "      <td>6087.0</td>\n",
       "      <td>-88.640000</td>\n",
       "    </tr>\n",
       "    <tr>\n",
       "      <th>8</th>\n",
       "      <td>Gangtok</td>\n",
       "      <td>5276.0</td>\n",
       "      <td>16.708333</td>\n",
       "    </tr>\n",
       "    <tr>\n",
       "      <th>9</th>\n",
       "      <td>Goa</td>\n",
       "      <td>6705.0</td>\n",
       "      <td>8.604651</td>\n",
       "    </tr>\n",
       "    <tr>\n",
       "      <th>12</th>\n",
       "      <td>Jaipur</td>\n",
       "      <td>10076.0</td>\n",
       "      <td>-17.113636</td>\n",
       "    </tr>\n",
       "    <tr>\n",
       "      <th>13</th>\n",
       "      <td>Kashmir</td>\n",
       "      <td>10829.0</td>\n",
       "      <td>0.163265</td>\n",
       "    </tr>\n",
       "    <tr>\n",
       "      <th>14</th>\n",
       "      <td>Kohima</td>\n",
       "      <td>11903.0</td>\n",
       "      <td>3.288889</td>\n",
       "    </tr>\n",
       "    <tr>\n",
       "      <th>16</th>\n",
       "      <td>Lucknow</td>\n",
       "      <td>5502.0</td>\n",
       "      <td>4.105263</td>\n",
       "    </tr>\n",
       "    <tr>\n",
       "      <th>18</th>\n",
       "      <td>Patna</td>\n",
       "      <td>12943.0</td>\n",
       "      <td>-5.177419</td>\n",
       "    </tr>\n",
       "    <tr>\n",
       "      <th>20</th>\n",
       "      <td>Simla</td>\n",
       "      <td>8666.0</td>\n",
       "      <td>22.620690</td>\n",
       "    </tr>\n",
       "    <tr>\n",
       "      <th>21</th>\n",
       "      <td>Surat</td>\n",
       "      <td>6828.0</td>\n",
       "      <td>53.800000</td>\n",
       "    </tr>\n",
       "    <tr>\n",
       "      <th>23</th>\n",
       "      <td>Udaipur</td>\n",
       "      <td>11073.0</td>\n",
       "      <td>67.000000</td>\n",
       "    </tr>\n",
       "  </tbody>\n",
       "</table>\n",
       "</div>"
      ],
      "text/plain": [
       "        City  total_sales  avg_profit\n",
       "2   Amritsar       4507.0   36.266667\n",
       "6    Chennai       6087.0  -88.640000\n",
       "8    Gangtok       5276.0   16.708333\n",
       "9        Goa       6705.0    8.604651\n",
       "12    Jaipur      10076.0  -17.113636\n",
       "13   Kashmir      10829.0    0.163265\n",
       "14    Kohima      11903.0    3.288889\n",
       "16   Lucknow       5502.0    4.105263\n",
       "18     Patna      12943.0   -5.177419\n",
       "20     Simla       8666.0   22.620690\n",
       "21     Surat       6828.0   53.800000\n",
       "23   Udaipur      11073.0   67.000000"
      ]
     },
     "execution_count": 15,
     "metadata": {},
     "output_type": "execute_result"
    }
   ],
   "source": [
    "low_sales_cities"
   ]
  },
  {
   "cell_type": "markdown",
   "id": "02836a64",
   "metadata": {},
   "source": [
    "#### We can categorize disparities in sales or profitability based on following factors\n",
    "#### Cities  with high-sales & low-profits(eg Ahmedabad , Hyderabad,  Patna)\n",
    "#### Cities  with low-sales & low-profits (Chennai , Jaipur , Goa)"
   ]
  },
  {
   "cell_type": "markdown",
   "id": "91c54047",
   "metadata": {},
   "source": [
    "#### Cities with low-sales & high-profits might be overelying on discounts most of the time that increase sale but not profit. So in this case it is better to set right pricing strategies. \n",
    "#### Cities  with low-sales & low-profit might occur in those areas where there is poor local demand , so to overcome this right marketing strategies and better customer engagement might be needed."
   ]
  },
  {
   "cell_type": "code",
   "execution_count": null,
   "id": "9007a2c9",
   "metadata": {},
   "outputs": [],
   "source": []
  }
 ],
 "metadata": {
  "kernelspec": {
   "display_name": "Python 3 (ipykernel)",
   "language": "python",
   "name": "python3"
  },
  "language_info": {
   "codemirror_mode": {
    "name": "ipython",
    "version": 3
   },
   "file_extension": ".py",
   "mimetype": "text/x-python",
   "name": "python",
   "nbconvert_exporter": "python",
   "pygments_lexer": "ipython3",
   "version": "3.11.0"
  }
 },
 "nbformat": 4,
 "nbformat_minor": 5
}
