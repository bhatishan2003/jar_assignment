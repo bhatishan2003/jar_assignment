{
 "cells": [
  {
   "cell_type": "markdown",
   "id": "b0e0d6f7",
   "metadata": {},
   "source": [
    "# QUESTION 1\n",
    "# Sales Analysis:"
   ]
  },
  {
   "cell_type": "markdown",
   "id": "52fffcd7",
   "metadata": {},
   "source": [
    "# Part 1: Sales and Profitability Analysis\n",
    "#### a) Merge the List of Orders and Order Details datasets on the basis of Order ID. Calculate the total sales (Amount) for each category across all orders."
   ]
  },
  {
   "cell_type": "code",
   "execution_count": 1,
   "id": "0bbba18e",
   "metadata": {},
   "outputs": [],
   "source": [
    "import pandas as pd"
   ]
  },
  {
   "cell_type": "code",
   "execution_count": 2,
   "id": "e903700d",
   "metadata": {},
   "outputs": [],
   "source": [
    "order_list_df = pd.read_csv(\"List_of_Orders_38EF37C2F3.csv\")\n",
    "order_details_df = pd.read_csv(\"Order_Details_F6D252B2DD.csv\")"
   ]
  },
  {
   "cell_type": "code",
   "execution_count": 3,
   "id": "b83446bb",
   "metadata": {},
   "outputs": [
    {
     "data": {
      "text/html": [
       "<div>\n",
       "<style scoped>\n",
       "    .dataframe tbody tr th:only-of-type {\n",
       "        vertical-align: middle;\n",
       "    }\n",
       "\n",
       "    .dataframe tbody tr th {\n",
       "        vertical-align: top;\n",
       "    }\n",
       "\n",
       "    .dataframe thead th {\n",
       "        text-align: right;\n",
       "    }\n",
       "</style>\n",
       "<table border=\"1\" class=\"dataframe\">\n",
       "  <thead>\n",
       "    <tr style=\"text-align: right;\">\n",
       "      <th></th>\n",
       "      <th>Order ID</th>\n",
       "      <th>Order Date</th>\n",
       "      <th>CustomerName</th>\n",
       "      <th>State</th>\n",
       "      <th>City</th>\n",
       "    </tr>\n",
       "  </thead>\n",
       "  <tbody>\n",
       "    <tr>\n",
       "      <th>0</th>\n",
       "      <td>B-25601</td>\n",
       "      <td>01-04-2018</td>\n",
       "      <td>Bharat</td>\n",
       "      <td>Gujarat</td>\n",
       "      <td>Ahmedabad</td>\n",
       "    </tr>\n",
       "    <tr>\n",
       "      <th>1</th>\n",
       "      <td>B-25602</td>\n",
       "      <td>01-04-2018</td>\n",
       "      <td>Pearl</td>\n",
       "      <td>Maharashtra</td>\n",
       "      <td>Pune</td>\n",
       "    </tr>\n",
       "    <tr>\n",
       "      <th>2</th>\n",
       "      <td>B-25603</td>\n",
       "      <td>03-04-2018</td>\n",
       "      <td>Jahan</td>\n",
       "      <td>Madhya Pradesh</td>\n",
       "      <td>Bhopal</td>\n",
       "    </tr>\n",
       "    <tr>\n",
       "      <th>3</th>\n",
       "      <td>B-25604</td>\n",
       "      <td>03-04-2018</td>\n",
       "      <td>Divsha</td>\n",
       "      <td>Rajasthan</td>\n",
       "      <td>Jaipur</td>\n",
       "    </tr>\n",
       "    <tr>\n",
       "      <th>4</th>\n",
       "      <td>B-25605</td>\n",
       "      <td>05-04-2018</td>\n",
       "      <td>Kasheen</td>\n",
       "      <td>West Bengal</td>\n",
       "      <td>Kolkata</td>\n",
       "    </tr>\n",
       "  </tbody>\n",
       "</table>\n",
       "</div>"
      ],
      "text/plain": [
       "  Order ID  Order Date CustomerName           State       City\n",
       "0  B-25601  01-04-2018       Bharat         Gujarat  Ahmedabad\n",
       "1  B-25602  01-04-2018        Pearl     Maharashtra       Pune\n",
       "2  B-25603  03-04-2018        Jahan  Madhya Pradesh     Bhopal\n",
       "3  B-25604  03-04-2018       Divsha       Rajasthan     Jaipur\n",
       "4  B-25605  05-04-2018      Kasheen     West Bengal    Kolkata"
      ]
     },
     "execution_count": 3,
     "metadata": {},
     "output_type": "execute_result"
    }
   ],
   "source": [
    "order_list_df.head()"
   ]
  },
  {
   "cell_type": "code",
   "execution_count": 4,
   "id": "967037cb",
   "metadata": {},
   "outputs": [
    {
     "data": {
      "text/html": [
       "<div>\n",
       "<style scoped>\n",
       "    .dataframe tbody tr th:only-of-type {\n",
       "        vertical-align: middle;\n",
       "    }\n",
       "\n",
       "    .dataframe tbody tr th {\n",
       "        vertical-align: top;\n",
       "    }\n",
       "\n",
       "    .dataframe thead th {\n",
       "        text-align: right;\n",
       "    }\n",
       "</style>\n",
       "<table border=\"1\" class=\"dataframe\">\n",
       "  <thead>\n",
       "    <tr style=\"text-align: right;\">\n",
       "      <th></th>\n",
       "      <th>Order ID</th>\n",
       "      <th>Amount</th>\n",
       "      <th>Profit</th>\n",
       "      <th>Quantity</th>\n",
       "      <th>Category</th>\n",
       "      <th>Sub-Category</th>\n",
       "    </tr>\n",
       "  </thead>\n",
       "  <tbody>\n",
       "    <tr>\n",
       "      <th>0</th>\n",
       "      <td>B-25601</td>\n",
       "      <td>1275.0</td>\n",
       "      <td>-1148.0</td>\n",
       "      <td>7</td>\n",
       "      <td>Furniture</td>\n",
       "      <td>Bookcases</td>\n",
       "    </tr>\n",
       "    <tr>\n",
       "      <th>1</th>\n",
       "      <td>B-25601</td>\n",
       "      <td>66.0</td>\n",
       "      <td>-12.0</td>\n",
       "      <td>5</td>\n",
       "      <td>Clothing</td>\n",
       "      <td>Stole</td>\n",
       "    </tr>\n",
       "    <tr>\n",
       "      <th>2</th>\n",
       "      <td>B-25601</td>\n",
       "      <td>8.0</td>\n",
       "      <td>-2.0</td>\n",
       "      <td>3</td>\n",
       "      <td>Clothing</td>\n",
       "      <td>Hankerchief</td>\n",
       "    </tr>\n",
       "    <tr>\n",
       "      <th>3</th>\n",
       "      <td>B-25601</td>\n",
       "      <td>80.0</td>\n",
       "      <td>-56.0</td>\n",
       "      <td>4</td>\n",
       "      <td>Electronics</td>\n",
       "      <td>Electronic Games</td>\n",
       "    </tr>\n",
       "    <tr>\n",
       "      <th>4</th>\n",
       "      <td>B-25602</td>\n",
       "      <td>168.0</td>\n",
       "      <td>-111.0</td>\n",
       "      <td>2</td>\n",
       "      <td>Electronics</td>\n",
       "      <td>Phones</td>\n",
       "    </tr>\n",
       "  </tbody>\n",
       "</table>\n",
       "</div>"
      ],
      "text/plain": [
       "  Order ID  Amount  Profit  Quantity     Category      Sub-Category\n",
       "0  B-25601  1275.0 -1148.0         7    Furniture         Bookcases\n",
       "1  B-25601    66.0   -12.0         5     Clothing             Stole\n",
       "2  B-25601     8.0    -2.0         3     Clothing       Hankerchief\n",
       "3  B-25601    80.0   -56.0         4  Electronics  Electronic Games\n",
       "4  B-25602   168.0  -111.0         2  Electronics            Phones"
      ]
     },
     "execution_count": 4,
     "metadata": {},
     "output_type": "execute_result"
    }
   ],
   "source": [
    "order_details_df.head()"
   ]
  },
  {
   "cell_type": "code",
   "execution_count": 5,
   "id": "314783bc",
   "metadata": {},
   "outputs": [
    {
     "data": {
      "text/html": [
       "<div>\n",
       "<style scoped>\n",
       "    .dataframe tbody tr th:only-of-type {\n",
       "        vertical-align: middle;\n",
       "    }\n",
       "\n",
       "    .dataframe tbody tr th {\n",
       "        vertical-align: top;\n",
       "    }\n",
       "\n",
       "    .dataframe thead th {\n",
       "        text-align: right;\n",
       "    }\n",
       "</style>\n",
       "<table border=\"1\" class=\"dataframe\">\n",
       "  <thead>\n",
       "    <tr style=\"text-align: right;\">\n",
       "      <th></th>\n",
       "      <th>Order ID</th>\n",
       "      <th>Amount</th>\n",
       "      <th>Profit</th>\n",
       "      <th>Quantity</th>\n",
       "      <th>Category</th>\n",
       "      <th>Sub-Category</th>\n",
       "      <th>Order Date</th>\n",
       "      <th>CustomerName</th>\n",
       "      <th>State</th>\n",
       "      <th>City</th>\n",
       "    </tr>\n",
       "  </thead>\n",
       "  <tbody>\n",
       "    <tr>\n",
       "      <th>0</th>\n",
       "      <td>B-25601</td>\n",
       "      <td>1275.0</td>\n",
       "      <td>-1148.0</td>\n",
       "      <td>7</td>\n",
       "      <td>Furniture</td>\n",
       "      <td>Bookcases</td>\n",
       "      <td>01-04-2018</td>\n",
       "      <td>Bharat</td>\n",
       "      <td>Gujarat</td>\n",
       "      <td>Ahmedabad</td>\n",
       "    </tr>\n",
       "    <tr>\n",
       "      <th>1</th>\n",
       "      <td>B-25601</td>\n",
       "      <td>66.0</td>\n",
       "      <td>-12.0</td>\n",
       "      <td>5</td>\n",
       "      <td>Clothing</td>\n",
       "      <td>Stole</td>\n",
       "      <td>01-04-2018</td>\n",
       "      <td>Bharat</td>\n",
       "      <td>Gujarat</td>\n",
       "      <td>Ahmedabad</td>\n",
       "    </tr>\n",
       "    <tr>\n",
       "      <th>2</th>\n",
       "      <td>B-25601</td>\n",
       "      <td>8.0</td>\n",
       "      <td>-2.0</td>\n",
       "      <td>3</td>\n",
       "      <td>Clothing</td>\n",
       "      <td>Hankerchief</td>\n",
       "      <td>01-04-2018</td>\n",
       "      <td>Bharat</td>\n",
       "      <td>Gujarat</td>\n",
       "      <td>Ahmedabad</td>\n",
       "    </tr>\n",
       "    <tr>\n",
       "      <th>3</th>\n",
       "      <td>B-25601</td>\n",
       "      <td>80.0</td>\n",
       "      <td>-56.0</td>\n",
       "      <td>4</td>\n",
       "      <td>Electronics</td>\n",
       "      <td>Electronic Games</td>\n",
       "      <td>01-04-2018</td>\n",
       "      <td>Bharat</td>\n",
       "      <td>Gujarat</td>\n",
       "      <td>Ahmedabad</td>\n",
       "    </tr>\n",
       "    <tr>\n",
       "      <th>4</th>\n",
       "      <td>B-25602</td>\n",
       "      <td>168.0</td>\n",
       "      <td>-111.0</td>\n",
       "      <td>2</td>\n",
       "      <td>Electronics</td>\n",
       "      <td>Phones</td>\n",
       "      <td>01-04-2018</td>\n",
       "      <td>Pearl</td>\n",
       "      <td>Maharashtra</td>\n",
       "      <td>Pune</td>\n",
       "    </tr>\n",
       "  </tbody>\n",
       "</table>\n",
       "</div>"
      ],
      "text/plain": [
       "  Order ID  Amount  Profit  Quantity     Category      Sub-Category  \\\n",
       "0  B-25601  1275.0 -1148.0         7    Furniture         Bookcases   \n",
       "1  B-25601    66.0   -12.0         5     Clothing             Stole   \n",
       "2  B-25601     8.0    -2.0         3     Clothing       Hankerchief   \n",
       "3  B-25601    80.0   -56.0         4  Electronics  Electronic Games   \n",
       "4  B-25602   168.0  -111.0         2  Electronics            Phones   \n",
       "\n",
       "   Order Date CustomerName        State       City  \n",
       "0  01-04-2018       Bharat      Gujarat  Ahmedabad  \n",
       "1  01-04-2018       Bharat      Gujarat  Ahmedabad  \n",
       "2  01-04-2018       Bharat      Gujarat  Ahmedabad  \n",
       "3  01-04-2018       Bharat      Gujarat  Ahmedabad  \n",
       "4  01-04-2018        Pearl  Maharashtra       Pune  "
      ]
     },
     "execution_count": 5,
     "metadata": {},
     "output_type": "execute_result"
    }
   ],
   "source": [
    "merged_data = pd.merge(order_details_df , order_list_df , on='Order ID')\n",
    "merged_data.head()"
   ]
  },
  {
   "cell_type": "code",
   "execution_count": 6,
   "id": "2095e77d",
   "metadata": {},
   "outputs": [
    {
     "data": {
      "text/plain": [
       "array(['Furniture', 'Clothing', 'Electronics'], dtype=object)"
      ]
     },
     "execution_count": 6,
     "metadata": {},
     "output_type": "execute_result"
    }
   ],
   "source": [
    "merged_data[\"Category\"].unique()"
   ]
  },
  {
   "cell_type": "code",
   "execution_count": 7,
   "id": "c0c48195",
   "metadata": {},
   "outputs": [
    {
     "data": {
      "text/plain": [
       "(1500, 10)"
      ]
     },
     "execution_count": 7,
     "metadata": {},
     "output_type": "execute_result"
    }
   ],
   "source": [
    "merged_data.shape"
   ]
  },
  {
   "cell_type": "code",
   "execution_count": 8,
   "id": "e2921d80",
   "metadata": {},
   "outputs": [
    {
     "data": {
      "text/html": [
       "<div>\n",
       "<style scoped>\n",
       "    .dataframe tbody tr th:only-of-type {\n",
       "        vertical-align: middle;\n",
       "    }\n",
       "\n",
       "    .dataframe tbody tr th {\n",
       "        vertical-align: top;\n",
       "    }\n",
       "\n",
       "    .dataframe thead th {\n",
       "        text-align: right;\n",
       "    }\n",
       "</style>\n",
       "<table border=\"1\" class=\"dataframe\">\n",
       "  <thead>\n",
       "    <tr style=\"text-align: right;\">\n",
       "      <th></th>\n",
       "      <th>Total_sales</th>\n",
       "    </tr>\n",
       "    <tr>\n",
       "      <th>Category</th>\n",
       "      <th></th>\n",
       "    </tr>\n",
       "  </thead>\n",
       "  <tbody>\n",
       "    <tr>\n",
       "      <th>Clothing</th>\n",
       "      <td>139054.0</td>\n",
       "    </tr>\n",
       "    <tr>\n",
       "      <th>Electronics</th>\n",
       "      <td>165267.0</td>\n",
       "    </tr>\n",
       "    <tr>\n",
       "      <th>Furniture</th>\n",
       "      <td>127181.0</td>\n",
       "    </tr>\n",
       "  </tbody>\n",
       "</table>\n",
       "</div>"
      ],
      "text/plain": [
       "             Total_sales\n",
       "Category                \n",
       "Clothing        139054.0\n",
       "Electronics     165267.0\n",
       "Furniture       127181.0"
      ]
     },
     "execution_count": 8,
     "metadata": {},
     "output_type": "execute_result"
    }
   ],
   "source": [
    "total_sales = merged_data.groupby(\"Category\")[\"Amount\"].sum()\n",
    "total_sales = pd.DataFrame({\n",
    "    \"Total_sales\" : total_sales\n",
    "})\n",
    "total_sales"
   ]
  },
  {
   "cell_type": "markdown",
   "id": "a3180cba",
   "metadata": {},
   "source": [
    "#### b) For each category, calculate the average profit per order and total profit margin (profit as a percentage of Amount)."
   ]
  },
  {
   "cell_type": "code",
   "execution_count": 9,
   "id": "6561a67d",
   "metadata": {},
   "outputs": [
    {
     "data": {
      "text/html": [
       "<div>\n",
       "<style scoped>\n",
       "    .dataframe tbody tr th:only-of-type {\n",
       "        vertical-align: middle;\n",
       "    }\n",
       "\n",
       "    .dataframe tbody tr th {\n",
       "        vertical-align: top;\n",
       "    }\n",
       "\n",
       "    .dataframe thead th {\n",
       "        text-align: right;\n",
       "    }\n",
       "</style>\n",
       "<table border=\"1\" class=\"dataframe\">\n",
       "  <thead>\n",
       "    <tr style=\"text-align: right;\">\n",
       "      <th></th>\n",
       "      <th>Average_profit</th>\n",
       "    </tr>\n",
       "    <tr>\n",
       "      <th>Category</th>\n",
       "      <th></th>\n",
       "    </tr>\n",
       "  </thead>\n",
       "  <tbody>\n",
       "    <tr>\n",
       "      <th>Clothing</th>\n",
       "      <td>11.762908</td>\n",
       "    </tr>\n",
       "    <tr>\n",
       "      <th>Electronics</th>\n",
       "      <td>34.071429</td>\n",
       "    </tr>\n",
       "    <tr>\n",
       "      <th>Furniture</th>\n",
       "      <td>9.456790</td>\n",
       "    </tr>\n",
       "  </tbody>\n",
       "</table>\n",
       "</div>"
      ],
      "text/plain": [
       "             Average_profit\n",
       "Category                   \n",
       "Clothing          11.762908\n",
       "Electronics       34.071429\n",
       "Furniture          9.456790"
      ]
     },
     "execution_count": 9,
     "metadata": {},
     "output_type": "execute_result"
    }
   ],
   "source": [
    "average_profit_per_order = merged_data.groupby(\"Category\")[\"Profit\"].mean()\n",
    "average_profit_per_order = pd.DataFrame({\n",
    "    \"Average_profit\" : average_profit_per_order\n",
    "})\n",
    "average_profit_per_order"
   ]
  },
  {
   "cell_type": "code",
   "execution_count": 10,
   "id": "07a928a5",
   "metadata": {},
   "outputs": [
    {
     "data": {
      "text/html": [
       "<div>\n",
       "<style scoped>\n",
       "    .dataframe tbody tr th:only-of-type {\n",
       "        vertical-align: middle;\n",
       "    }\n",
       "\n",
       "    .dataframe tbody tr th {\n",
       "        vertical-align: top;\n",
       "    }\n",
       "\n",
       "    .dataframe thead th {\n",
       "        text-align: right;\n",
       "    }\n",
       "</style>\n",
       "<table border=\"1\" class=\"dataframe\">\n",
       "  <thead>\n",
       "    <tr style=\"text-align: right;\">\n",
       "      <th></th>\n",
       "      <th>Profit_Margin</th>\n",
       "    </tr>\n",
       "    <tr>\n",
       "      <th>Category</th>\n",
       "      <th></th>\n",
       "    </tr>\n",
       "  </thead>\n",
       "  <tbody>\n",
       "    <tr>\n",
       "      <th>Clothing</th>\n",
       "      <td>8.027817</td>\n",
       "    </tr>\n",
       "    <tr>\n",
       "      <th>Electronics</th>\n",
       "      <td>6.349725</td>\n",
       "    </tr>\n",
       "    <tr>\n",
       "      <th>Furniture</th>\n",
       "      <td>1.806874</td>\n",
       "    </tr>\n",
       "  </tbody>\n",
       "</table>\n",
       "</div>"
      ],
      "text/plain": [
       "             Profit_Margin\n",
       "Category                  \n",
       "Clothing          8.027817\n",
       "Electronics       6.349725\n",
       "Furniture         1.806874"
      ]
     },
     "execution_count": 10,
     "metadata": {},
     "output_type": "execute_result"
    }
   ],
   "source": [
    "total_profit_by_category = merged_data.groupby('Category')['Profit'].sum()\n",
    "total_amount_by_category = merged_data.groupby('Category')['Amount'].sum()\n",
    "profit_margin = (total_profit_by_category / total_amount_by_category) * 100\n",
    "profit_margin = pd.DataFrame({\n",
    "    \"Profit_Margin\" :profit_margin\n",
    "})\n",
    "profit_margin"
   ]
  },
  {
   "cell_type": "markdown",
   "id": "92f4eb57",
   "metadata": {},
   "source": [
    "#### c) Identify the top-performing and underperforming categories based on these metrics. Also, suggest reasons for their performance diEerences."
   ]
  },
  {
   "cell_type": "markdown",
   "id": "ebd90ece",
   "metadata": {},
   "source": [
    "#### Taking both average profit and profit margin we can see following\n",
    "#### Top Performing - Clothing as it has highest profit margin and good average profit\n",
    "#### Underperforming - In my opinion furniture is the most underperforming based on above metrics\n",
    "\n",
    "#### The main reasons for the performance difference between them will be clothing items are always in demand in huge numbers and different clothing items can vary in cost. Also cost of production is also not high compared to furniture and electronics, while on other hand furniture items are expensive to produce(eg production of raw materials for furniture products like wood , metals etc are expensive)."
   ]
  }
 ],
 "metadata": {
  "kernelspec": {
   "display_name": "Python 3 (ipykernel)",
   "language": "python",
   "name": "python3"
  },
  "language_info": {
   "codemirror_mode": {
    "name": "ipython",
    "version": 3
   },
   "file_extension": ".py",
   "mimetype": "text/x-python",
   "name": "python",
   "nbconvert_exporter": "python",
   "pygments_lexer": "ipython3",
   "version": "3.11.0"
  }
 },
 "nbformat": 4,
 "nbformat_minor": 5
}
